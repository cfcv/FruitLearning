{
 "cells": [
  {
   "cell_type": "markdown",
   "metadata": {},
   "source": [
    "# Aprentissage supervisé\n",
    "\n",
    "* 1: [Loading the database](#step1)\n",
    "* 2: [Calculation of all the image's signature](#step2)\n",
    "* 3: [Calculation of the centers of each class(boundaries)](#step3)\n",
    "* 4: [Testing the classifier](#step4)"
   ]
  },
  {
   "cell_type": "markdown",
   "metadata": {},
   "source": [
    "<a id=\"step1\"></a>\n",
    "## Loading the database "
   ]
  },
  {
   "cell_type": "markdown",
   "metadata": {},
   "source": [
    "#### For the classifier: we will use 700 images for training and 210 for testing and cross-k validation after, saving each metric calculated\n",
    "#### For the neural network: We will use 700 images for training, 105 for validation and 105 for testing. "
   ]
  },
  {
   "cell_type": "code",
   "execution_count": null,
   "metadata": {},
   "outputs": [],
   "source": []
  }
 ],
 "metadata": {
  "kernelspec": {
   "display_name": "Python 3",
   "language": "python",
   "name": "python3"
  },
  "language_info": {
   "codemirror_mode": {
    "name": "ipython",
    "version": 3
   },
   "file_extension": ".py",
   "mimetype": "text/x-python",
   "name": "python",
   "nbconvert_exporter": "python",
   "pygments_lexer": "ipython3",
   "version": "3.5.2"
  }
 },
 "nbformat": 4,
 "nbformat_minor": 2
}
